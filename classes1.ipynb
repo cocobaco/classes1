class Dogs():
  def __init__(self, name, color, dob):
    self.name = name
    self.color = color
    self.dob = dob
    
  def greet(self):
    print('my name is {}'.format(self.name))
    
peter = Dogs('peter', 'white', '20100405')
cocopuff = Dogs('cocopuff', 'brown', '20121225')

peter.greet()
cocopuff.greet()
